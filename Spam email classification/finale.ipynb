{
 "cells": [
  {
   "cell_type": "code",
   "execution_count": 11,
   "id": "8c4e7878",
   "metadata": {},
   "outputs": [
    {
     "name": "stdout",
     "output_type": "stream",
     "text": [
      "Saved app.py!\n"
     ]
    }
   ],
   "source": [
    "# Save your Streamlit code to app.py\n",
    "with open(\"app.py\", \"w\") as f:\n",
    "    f.write(\"\"\"\n",
    "import streamlit as st\n",
    "import pickle\n",
    "\n",
    "# Load the model and vectorizer\n",
    "model = pickle.load(open('spam123.pk1', 'rb'))\n",
    "cv = pickle.load(open('vec123.pk1', 'rb'))\n",
    "\n",
    "def main():\n",
    "    st.title(\"Email Spam Classification Application\")\n",
    "    st.write(\"This is a Machine Learning application to classify emails as spam or ham.\")\n",
    "    st.header(\"Classification\")\n",
    "    \n",
    "    user_input = st.text_area(\"Enter an email to classify\", height=150)\n",
    "    \n",
    "    if st.button(\"Classify\"):\n",
    "        if user_input:\n",
    "            data = [user_input]\n",
    "            st.write(\"Processing input...\")\n",
    "            vec = cv.transform(data).toarray()\n",
    "            result = model.predict(vec)\n",
    "            \n",
    "            if result[0] == 0:\n",
    "                st.success(\"This is Not A Spam Email\")\n",
    "            else:\n",
    "                st.error(\"This is A Spam Email\")\n",
    "        else:\n",
    "            st.write(\"Please enter an email to classify.\")\n",
    "\n",
    "# Run the main function\n",
    "main()\n",
    "    \"\"\")\n",
    "print(\"Saved app.py!\")\n"
   ]
  },
  {
   "cell_type": "code",
   "execution_count": null,
   "id": "cd31004b",
   "metadata": {},
   "outputs": [],
   "source": []
  },
  {
   "cell_type": "code",
   "execution_count": null,
   "id": "39b1c88e",
   "metadata": {},
   "outputs": [],
   "source": []
  }
 ],
 "metadata": {
  "kernelspec": {
   "display_name": "Python 3 (ipykernel)",
   "language": "python",
   "name": "python3"
  },
  "language_info": {
   "codemirror_mode": {
    "name": "ipython",
    "version": 3
   },
   "file_extension": ".py",
   "mimetype": "text/x-python",
   "name": "python",
   "nbconvert_exporter": "python",
   "pygments_lexer": "ipython3",
   "version": "3.9.12"
  }
 },
 "nbformat": 4,
 "nbformat_minor": 5
}
